{
 "cells": [
  {
   "cell_type": "markdown",
   "id": "c294fccb",
   "metadata": {},
   "source": [
    "# Streaming in LangGraph"
   ]
  },
  {
   "cell_type": "code",
   "execution_count": 1,
   "id": "90d20c7d",
   "metadata": {},
   "outputs": [],
   "source": [
    "from typing_extensions import TypedDict\n",
    "from langgraph.graph import StateGraph, START, END\n",
    "\n",
    "\n",
    "## Reducers\n",
    "from typing import Annotated\n",
    "from langgraph.graph.message import add_messages"
   ]
  },
  {
   "cell_type": "code",
   "execution_count": 2,
   "id": "6c1e0dc5",
   "metadata": {},
   "outputs": [],
   "source": [
    "class State(TypedDict):\n",
    "    messages: Annotated[list, add_messages]"
   ]
  },
  {
   "cell_type": "code",
   "execution_count": 4,
   "id": "838c0e96",
   "metadata": {},
   "outputs": [],
   "source": [
    "import os\n",
    "from dotenv import load_dotenv\n",
    "load_dotenv()\n",
    "os.environ['OPENAI_API_KEY'] = os.getenv('OPENAI_API_KEY')\n",
    "os.environ['GROQ_API_KEY'] = os.getenv('GROQ_API_KEY')"
   ]
  },
  {
   "cell_type": "code",
   "execution_count": 5,
   "id": "9ccdf158",
   "metadata": {},
   "outputs": [
    {
     "data": {
      "text/plain": [
       "AIMessage(content='Hello! How can I assist you today?', additional_kwargs={'refusal': None}, response_metadata={'token_usage': {'completion_tokens': 9, 'prompt_tokens': 8, 'total_tokens': 17, 'completion_tokens_details': {'accepted_prediction_tokens': 0, 'audio_tokens': 0, 'reasoning_tokens': 0, 'rejected_prediction_tokens': 0}, 'prompt_tokens_details': {'audio_tokens': 0, 'cached_tokens': 0}}, 'model_name': 'gpt-4o-2024-08-06', 'system_fingerprint': 'fp_a288987b44', 'id': 'chatcmpl-C0HR8L7nTrk6l8LEVsAZCSMQvO2u6', 'service_tier': 'default', 'finish_reason': 'stop', 'logprobs': None}, id='run--a7a0cd47-0459-47b4-81b0-e299649f2cdf-0', usage_metadata={'input_tokens': 8, 'output_tokens': 9, 'total_tokens': 17, 'input_token_details': {'audio': 0, 'cache_read': 0}, 'output_token_details': {'audio': 0, 'reasoning': 0}})"
      ]
     },
     "execution_count": 5,
     "metadata": {},
     "output_type": "execute_result"
    }
   ],
   "source": [
    "from langchain_openai import ChatOpenAI\n",
    "llm = ChatOpenAI(model='gpt-4o')\n",
    "llm.invoke('hello')"
   ]
  },
  {
   "cell_type": "code",
   "execution_count": 6,
   "id": "839d14e4",
   "metadata": {},
   "outputs": [
    {
     "data": {
      "text/plain": [
       "AIMessage(content='<think>\\nOkay, the user just said \"hello\". I need to respond appropriately. Let me start by acknowledging their greeting. Maybe add a friendly emoji to keep it warm. I should ask how I can assist them today to open the conversation. Keep it simple and welcoming. Let me make sure the tone is positive and helpful.\\n</think>\\n\\nHello! 😊 How can I assist you today? Let me know if you have any questions or need help with something specific!', additional_kwargs={}, response_metadata={'token_usage': {'completion_tokens': 95, 'prompt_tokens': 9, 'total_tokens': 104, 'completion_time': 0.160264732, 'prompt_time': 0.006137358, 'queue_time': 0.193874208, 'total_time': 0.16640209}, 'model_name': 'qwen/qwen3-32b', 'system_fingerprint': 'fp_5cf921caa2', 'service_tier': 'on_demand', 'finish_reason': 'stop', 'logprobs': None}, id='run--7a7f7e99-91ef-44c2-89c5-77e3c04f52c1-0', usage_metadata={'input_tokens': 9, 'output_tokens': 95, 'total_tokens': 104})"
      ]
     },
     "execution_count": 6,
     "metadata": {},
     "output_type": "execute_result"
    }
   ],
   "source": [
    "from langchain_groq import ChatGroq\n",
    "llm_groq = ChatGroq(model = 'qwen/qwen3-32b')\n",
    "llm_groq.invoke('hello')"
   ]
  },
  {
   "cell_type": "markdown",
   "id": "9220e4e0",
   "metadata": {},
   "source": [
    "# Creating nodes"
   ]
  },
  {
   "cell_type": "code",
   "execution_count": 7,
   "id": "18abe784",
   "metadata": {},
   "outputs": [],
   "source": [
    "from langgraph.checkpoint.memory import MemorySaver\n",
    "memory = MemorySaver()\n",
    "def superbot(state: State):\n",
    "    return {'messages': [llm_groq.invoke(state['messages'])]}"
   ]
  },
  {
   "cell_type": "code",
   "execution_count": 22,
   "id": "a2e0cfa2",
   "metadata": {},
   "outputs": [
    {
     "data": {
      "image/png": "[encoded data removed]",
      "text/plain": [
       "<IPython.core.display.Image object>"
      ]
     },
     "metadata": {},
     "output_type": "display_data"
    }
   ],
   "source": [
    "from IPython.display import Image, display \n",
    "graph = StateGraph(State)\n",
    "graph.add_node('superbot', superbot)\n",
    "\n",
    "## add edges\n",
    "graph.add_edge(START, 'superbot')\n",
    "graph.add_edge('superbot', END)\n",
    "\n",
    "# compile graph\n",
    "graph_builder = graph.compile()\n",
    "\n",
    "# display\n",
    "display(Image(graph_builder.get_graph().draw_mermaid_png()))\n"
   ]
  },
  {
   "cell_type": "code",
   "execution_count": 23,
   "id": "423f836e",
   "metadata": {},
   "outputs": [
    {
     "data": {
      "text/plain": [
       "{'messages': [HumanMessage(content='Hello my name is abcd and I like cricket', additional_kwargs={}, response_metadata={}, id='a83a3b75-0ed9-426b-b751-c12507a4a882'),\n",
       "  AIMessage(content='<think>\\nOkay, the user introduced themselves as \"abcd\" and mentioned they like cricket. First, I need to respond in a friendly and welcoming manner. Since the name is \"abcd,\" maybe they used a placeholder or just want to keep their name anonymous. I should acknowledge their introduction and express enthusiasm about their interest in cricket.\\n\\nI should ask a follow-up question to encourage them to share more about why they like cricket or how they got into it. Maybe something like, \"That\\'s great! What made you start following cricket, or do you play it as well?\" That way, it opens the door for a more detailed conversation.\\n\\nI also need to make sure the tone is positive and supportive. Avoid any assumptions about why they chose \"abcd\" as a name. Keep the focus on their interest in cricket. Maybe mention some popular aspects of cricket, like the different formats (Test, ODI, T20) or famous players to see if they have any favorites. But I shouldn\\'t overload them with too much information at once. Let them lead the conversation from there.\\n</think>\\n\\nHello abcd! 🏏 It\\'s great to meet you. Cricket is such an exciting sport with so much to love—whether it\\'s the strategy, the sheer variety of formats (Test, ODI, T20), or the passion of the fans. Do you follow a particular team or player? Or maybe you\\'re into playing it yourself? I\\'d love to hear what draws you to the game!', additional_kwargs={}, response_metadata={'token_usage': {'completion_tokens': 305, 'prompt_tokens': 18, 'total_tokens': 323, 'completion_time': 0.853982495, 'prompt_time': 0.006778481, 'queue_time': 0.194072434, 'total_time': 0.860760976}, 'model_name': 'qwen/qwen3-32b', 'system_fingerprint': 'fp_5cf921caa2', 'service_tier': 'on_demand', 'finish_reason': 'stop', 'logprobs': None}, id='run--a3788823-c546-4976-b1eb-135dcb442ea1-0', usage_metadata={'input_tokens': 18, 'output_tokens': 305, 'total_tokens': 323})]}"
      ]
     },
     "execution_count": 23,
     "metadata": {},
     "output_type": "execute_result"
    }
   ],
   "source": [
    "## invocation\n",
    "config = {'configurable': {'thread_id':'1'}}\n",
    "graph_builder.invoke({'messages': 'Hello my name is abcd and I like cricket'},config)"
   ]
  },
  {
   "cell_type": "markdown",
   "id": "abda0798",
   "metadata": {},
   "source": [
    "## Streaming responses with stream()\n",
    "- stream_mode = 'updates': streams the latest state of graph\n",
    "- stream_mode = 'values: streams the full state of graph (all convos)"
   ]
  },
  {
   "cell_type": "code",
   "execution_count": null,
   "id": "cd402a65",
   "metadata": {},
   "outputs": [
    {
     "ename": "KeyError",
     "evalue": "'messages'",
     "output_type": "error",
     "traceback": [
      "\u001b[31m---------------------------------------------------------------------------\u001b[39m",
      "\u001b[31mKeyError\u001b[39m                                  Traceback (most recent call last)",
      "\u001b[36mCell\u001b[39m\u001b[36m \u001b[39m\u001b[32mIn[25]\u001b[39m\u001b[32m, line 4\u001b[39m\n\u001b[32m      2\u001b[39m config = {\u001b[33m'\u001b[39m\u001b[33mconfigurable\u001b[39m\u001b[33m'\u001b[39m: {\u001b[33m'\u001b[39m\u001b[33mthread_id\u001b[39m\u001b[33m'\u001b[39m:\u001b[33m'\u001b[39m\u001b[33m2\u001b[39m\u001b[33m'\u001b[39m}}\n\u001b[32m      3\u001b[39m \u001b[38;5;28;01mfor\u001b[39;00m chunk \u001b[38;5;129;01min\u001b[39;00m graph_builder.stream({\u001b[33m'\u001b[39m\u001b[33mmessages\u001b[39m\u001b[33m'\u001b[39m: \u001b[33m'\u001b[39m\u001b[33mHello my name is abcd and I like cricket\u001b[39m\u001b[33m'\u001b[39m}, config=config, stream_mode=\u001b[33m'\u001b[39m\u001b[33mupdates\u001b[39m\u001b[33m'\u001b[39m):\n\u001b[32m----> \u001b[39m\u001b[32m4\u001b[39m     \u001b[43mchunk\u001b[49m\u001b[43m[\u001b[49m\u001b[33;43m'\u001b[39;49m\u001b[33;43mmessages\u001b[39;49m\u001b[33;43m'\u001b[39;49m\u001b[43m]\u001b[49m.pretty_print()\n",
      "\u001b[31mKeyError\u001b[39m: 'messages'"
     ]
    }
   ],
   "source": [
    "# create a thread\n",
    "config = {'configurable': {'thread_id':'2'}}\n",
    "for chunk in graph_builder.stream({'messages': 'Hello my name is abcd and I like cricket'}, config=config, stream_mode='updates'):\n",
    "    print(chunk)\n",
    "    \n"
   ]
  },
  {
   "cell_type": "code",
   "execution_count": null,
   "id": "778fc131",
   "metadata": {},
   "outputs": [
    {
     "name": "stdout",
     "output_type": "stream",
     "text": [
      "{'messages': [HumanMessage(content='Hello my name is abcd and I like cricket', additional_kwargs={}, response_metadata={}, id='a9806371-7e93-4cf1-8e3c-6a233f4218f5')]}\n",
      "{'messages': [HumanMessage(content='Hello my name is abcd and I like cricket', additional_kwargs={}, response_metadata={}, id='a9806371-7e93-4cf1-8e3c-6a233f4218f5'), AIMessage(content='<think>\\nOkay, the user introduced themselves as \"abcd\" and mentioned they like cricket. I need to respond in a friendly and engaging way. First, I should acknowledge their name and interest. Since \"abcd\" is a username or a placeholder, maybe they\\'re using it for privacy, so I should respect that. I should ask them about their favorite cricket teams or players to keep the conversation going. Also, maybe ask if they follow any particular leagues like the IPL or Test series. I need to make sure the questions are open-ended to encourage them to share more. Let me check if there\\'s any recent cricket news I can mention to be relevant, but maybe that\\'s too much. Just a simple, warm welcome and a few questions should work. Let me draft that.\\n</think>\\n\\nHello abcd! 😊 Welcome! Cricket is such an exciting sport—so cool that you enjoy it! Do you have a favorite team or player you follow? Also, are you into specific formats like T20s, ODIs, or Tests? Let me know if you\\'d like to chat more about matches, strategies, or even cricket trivia! 🏏', additional_kwargs={}, response_metadata={'token_usage': {'completion_tokens': 235, 'prompt_tokens': 18, 'total_tokens': 253, 'completion_time': 0.59682229, 'prompt_time': 0.006503773, 'queue_time': 0.194197731, 'total_time': 0.603326063}, 'model_name': 'qwen/qwen3-32b', 'system_fingerprint': 'fp_5cf921caa2', 'service_tier': 'on_demand', 'finish_reason': 'stop', 'logprobs': None}, id='run--18016c2e-2f58-4cfa-9b7a-4844fdf6a7fb-0', usage_metadata={'input_tokens': 18, 'output_tokens': 235, 'total_tokens': 253})]}\n"
     ]
    }
   ],
   "source": [
    "# create a thread\n",
    "for chunk in graph_builder.stream({'messages': 'Hello my name is abcd and I like cricket'},config, stream_mode='values'):\n",
    "    print(chunk)"
   ]
  },
  {
   "cell_type": "code",
   "execution_count": null,
   "id": "d3b9c287",
   "metadata": {},
   "outputs": [
    {
     "name": "stdout",
     "output_type": "stream",
     "text": [
      "{'superbot': {'messages': [AIMessage(content='<think>\\nOkay, the user says \"I love football too!\" which is a positive and enthusiastic response. Since they share this common interest, I should acknowledge their enthusiasm. I can ask follow-up questions to keep the conversation flowing. Maybe ask which team they support or their favorite players. But I need to be careful not to assume too much about their preferences. Also, I should maintain a friendly and open tone to encourage them to share more. Let me make sure my response is welcoming and shows genuine interest in their football passion.\\n</think>\\n\\nThat\\'s awesome! Football is such an exciting sport with so much passion and energy. Do you follow any particular teams or players? I\\'d love to hear about your favorite moments or what you enjoy most about the game! ⚽😄', additional_kwargs={}, response_metadata={'token_usage': {'completion_tokens': 157, 'prompt_tokens': 13, 'total_tokens': 170, 'completion_time': 0.55807357, 'prompt_time': 0.006533052, 'queue_time': 0.19415730399999998, 'total_time': 0.564606622}, 'model_name': 'qwen/qwen3-32b', 'system_fingerprint': 'fp_5cf921caa2', 'service_tier': 'on_demand', 'finish_reason': 'stop', 'logprobs': None}, id='run--688aca7d-f1e8-4d1a-bc9b-525df34a942e-0', usage_metadata={'input_tokens': 13, 'output_tokens': 157, 'total_tokens': 170})]}}\n"
     ]
    }
   ],
   "source": [
    "# create a thread\n",
    "for chunk in graph_builder.stream({'messages': 'I love football too!'}, config, stream_mode='updates'):\n",
    "    print(chunk)\n",
    "    \n"
   ]
  },
  {
   "cell_type": "code",
   "execution_count": null,
   "id": "26f25a93",
   "metadata": {},
   "outputs": [
    {
     "name": "stdout",
     "output_type": "stream",
     "text": [
      "{'messages': [HumanMessage(content='I love swimming too', additional_kwargs={}, response_metadata={}, id='228d2075-d5ff-4ccb-a6c7-cbddfe2e5875')]}\n",
      "{'messages': [HumanMessage(content='I love swimming too', additional_kwargs={}, response_metadata={}, id='228d2075-d5ff-4ccb-a6c7-cbddfe2e5875'), AIMessage(content=\"<think>\\nOkay, the user mentioned they love swimming too. Let me think about how to respond. First, I should acknowledge their shared interest. Maybe ask about what they enjoy most about swimming. Do they prefer different strokes? Maybe they compete or just swim for fun? Also, maybe they have a favorite place to swim. I should keep the conversation open-ended so they can elaborate. I should also mention my own experience if I have any, but since I'm an AI, I can't swim. Hmm, how to phrase that. Maybe talk about the benefits of swimming or share some interesting facts. Let me check for any cultural references or common swimming terms. Maybe ask if they have any swimming goals or achievements. Keep the tone friendly and encouraging. Make sure the response is positive and engaging.\\n</think>\\n\\nThat's wonderful! 🏊\\u200d♀️ Swimming is such a fantastic way to stay active and enjoy the water. Do you have a favorite stroke or activity in the pool? I'd love to hear more about what makes swimming special for you! (And while I can't swim myself, I find the whole experience fascinating - the way people glide through the water, the different techniques, it's all so cool to learn about!)\", additional_kwargs={}, response_metadata={'token_usage': {'completion_tokens': 251, 'prompt_tokens': 12, 'total_tokens': 263, 'completion_time': 0.726018567, 'prompt_time': 0.006410145, 'queue_time': 0.194129907, 'total_time': 0.732428712}, 'model_name': 'qwen/qwen3-32b', 'system_fingerprint': 'fp_5cf921caa2', 'service_tier': 'on_demand', 'finish_reason': 'stop', 'logprobs': None}, id='run--47150785-18ee-4067-9135-041b969670d0-0', usage_metadata={'input_tokens': 12, 'output_tokens': 251, 'total_tokens': 263})]}\n"
     ]
    }
   ],
   "source": [
    "# create a thread\n",
    "for chunk in graph_builder.stream({'messages': 'I love swimming too'},config, stream_mode='values'):\n"
   ]
  },
  {
   "cell_type": "code",
   "execution_count": null,
   "id": "f4d2f80c",
   "metadata": {},
   "outputs": [],
   "source": []
  }
 ],
 "metadata": {
  "kernelspec": {
   "display_name": "langgraph-agents",
   "language": "python",
   "name": "python3"
  },
  "language_info": {
   "codemirror_mode": {
    "name": "ipython",
    "version": 3
   },
   "file_extension": ".py",
   "mimetype": "text/x-python",
   "name": "python",
   "nbconvert_exporter": "python",
   "pygments_lexer": "ipython3",
   "version": "3.12.11"
  }
 },
 "nbformat": 4,
 "nbformat_minor": 5
}
