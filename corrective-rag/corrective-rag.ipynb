{
 "cells": [
  {
   "cell_type": "markdown",
   "id": "d055fd15",
   "metadata": {},
   "source": [
    "# Corrective RAG\n",
    "- Focus is on improving the accuracy and relevance of generated docs by incorporating mechanisms for self reflection and self-grading of retrieved documents\n",
    "- It evaluates the quality of generated docs and applies corrective measures (e.g rewriting queries or augmenting with web search) when needed\n",
    "\n",
    "## Limitations of traditional RAGs\n",
    "- Traditional RAG systems heavily rely on accuracy of retrieved documents. If the retrieved information is flawed or incomplete, the generated response can also be inaccurate\n",
    "\n",
    "## Corrective RAG's core components:\n",
    "- **Retrieval Evaluator**: Assesses the quality and relevance of retrieved documents\n",
    "- **Generative Model**: Generates an initial response based on retrieved information\n",
    "- **Refinement and Correction**: CRAG employs strategies like Knowledge Refinement or web search to addres issues identified by the retrieval evaluator\n",
    "\n",
    "## Benefits of CRAG:\n",
    "- Improved Accuracy\n",
    "- Enhanced Relevance\n",
    "- Increased Robustness"
   ]
  },
  {
   "cell_type": "code",
   "execution_count": 1,
   "id": "ea894d19",
   "metadata": {},
   "outputs": [],
   "source": [
    "import os\n",
    "from dotenv import load_dotenv\n",
    "from langchain_groq import ChatGroq\n",
    "load_dotenv()\n",
    "os.environ['GROQ_API_KEY'] = os.getenv('GROQ_API_KEY')\n",
    "os.environ['OPENAI_API_KEY'] = os.getenv('OPENAI_API_KEY')\n",
    "os.environ['TAVILY_API_KEY'] = os.getenv('TAVILY_API_KEY')"
   ]
  },
  {
   "cell_type": "code",
   "execution_count": 2,
   "id": "0406a12c",
   "metadata": {},
   "outputs": [
    {
     "name": "stderr",
     "output_type": "stream",
     "text": [
      "USER_AGENT environment variable not set, consider setting it to identify your requests.\n"
     ]
    }
   ],
   "source": [
    "## Build an index\n",
    "from langchain_text_splitters import RecursiveCharacterTextSplitter\n",
    "from langchain_community.document_loaders import WebBaseLoader\n",
    "from langchain_community.vectorstores import FAISS\n",
    "from langchain_openai import OpenAIEmbeddings\n",
    "\n",
    "\n",
    "# embeddings\n",
    "embd = OpenAIEmbeddings()\n",
    "\n",
    "# Docs to index\n",
    "urls = [\n",
    "    'https://lilianweng.github.io/posts/2023-06-23-agent/',\n",
    "    'https://lilianweng.github.io/posts/2023-03-15-prompt-engineering/',\n",
    "    'https://lilianweng.github.io/posts/2023-10-25-adv-attack-llm/',\n",
    "]\n",
    "\n",
    "# load\n",
    "docs = [WebBaseLoader(url).load() for url in urls]\n",
    "docs_list = [item for sublist in docs for item in sublist]\n",
    "\n",
    "# split text\n",
    "text_splitter = RecursiveCharacterTextSplitter.from_tiktoken_encoder(chunk_size=500, chunk_overlap=0)\n",
    "doc_splits = text_splitter.split_documents(docs_list)\n",
    "\n",
    "## Vector stores\n",
    "vector_store = FAISS.from_documents(\n",
    "    documents = doc_splits,\n",
    "    embedding=OpenAIEmbeddings()\n",
    ")\n",
    "\n",
    "## vector store as retriever\n",
    "retriever = vector_store.as_retriever()"
   ]
  },
  {
   "cell_type": "code",
   "execution_count": 3,
   "id": "e14687fd",
   "metadata": {},
   "outputs": [
    {
     "name": "stdout",
     "output_type": "stream",
     "text": [
      "binary_score='yes'\n"
     ]
    }
   ],
   "source": [
    "## Retrieval grader\n",
    "from langchain_core.prompts import ChatPromptTemplate\n",
    "from langchain_openai import ChatOpenAI\n",
    "from pydantic import BaseModel, Field\n",
    "\n",
    "# Data Model\n",
    "class GradeDocuments(BaseModel):\n",
    "    '''Binary Score for relevance check on retrieved documents'''\n",
    "    \n",
    "    binary_score:str = Field(description='Documents are relevant to question \\'yes\\' or \\'no\\'')\n",
    "    \n",
    "## LLM with function call\n",
    "llm = ChatOpenAI(model='gpt-4o', temperature=0)\n",
    "structured_llm_grader = llm.with_structured_output(GradeDocuments)\n",
    "\n",
    "# prompt\n",
    "system = \"\"\" You're a grader assessing relevance of the retrieved document to a user question. \\n\n",
    "If the document contains keyword(s) or semantic meaning related to the question, grade it as relevant. \\n\n",
    "Give a binary score 'yes' or 'no' score to indicate whether the document is relevant to the question.\n",
    "\"\"\"\n",
    "grade_prompt = ChatPromptTemplate.from_messages(\n",
    "    [\n",
    "        ('system', system),\n",
    "        ('human', 'Retrieved document: \\n\\n {document} \\n\\n User questions: {question}')\n",
    "    ]\n",
    ")\n",
    "\n",
    "retrieval_grader = grade_prompt | structured_llm_grader\n",
    "question = 'agent memory'\n",
    "docs = retriever.invoke(question)\n",
    "doc_txt = docs[1].page_content\n",
    "print(retrieval_grader.invoke({'question':question, 'document':doc_txt}))"
   ]
  },
  {
   "cell_type": "code",
   "execution_count": 4,
   "id": "3eb77718",
   "metadata": {},
   "outputs": [
    {
     "name": "stdout",
     "output_type": "stream",
     "text": [
      "In LLM-powered autonomous agents, memory is divided into short-term and long-term components. Short-term memory involves in-context learning, while long-term memory allows the agent to retain and recall information over extended periods, often using an external vector store for fast retrieval. This memory system enables agents to learn from past experiences and improve future actions.\n"
     ]
    }
   ],
   "source": [
    "## generate\n",
    "from langchain import hub\n",
    "from langchain_core.output_parsers import StrOutputParser\n",
    "\n",
    "# prompt\n",
    "prompt = hub.pull('rlm/rag-prompt')\n",
    "\n",
    "#LLM\n",
    "llm = ChatOpenAI(model='gpt-4o', temperature=0)\n",
    "\n",
    "# post processing\n",
    "def format_docs(docs):\n",
    "    return '\\n\\n'.join(doc.page_content for doc in docs)\n",
    "\n",
    "# chain\n",
    "rag_chain = prompt | llm | StrOutputParser()\n",
    "\n",
    "# Run\n",
    "generation = rag_chain.invoke({'context': docs, 'question':question})\n",
    "print(generation)"
   ]
  },
  {
   "cell_type": "code",
   "execution_count": 5,
   "id": "0f4dee41",
   "metadata": {},
   "outputs": [
    {
     "data": {
      "text/plain": [
       "'What is agent memory and how does it function in artificial intelligence systems?'"
      ]
     },
     "execution_count": 5,
     "metadata": {},
     "output_type": "execute_result"
    }
   ],
   "source": [
    "## Question rewriter\n",
    "\n",
    "#LLM\n",
    "llm = ChatOpenAI(model='gpt-4o', temperature=0)\n",
    "\n",
    "# prompt\n",
    "system = ''' You are a question re-writer that converts an input question to a better version that is optimized \\n\n",
    "for web search. Look at my input and try to reason about the underlying semantic intent/ meaning\n",
    "'''\n",
    "\n",
    "rewrite_prompt = ChatPromptTemplate.from_messages(\n",
    "    [\n",
    "        ('system', system),\n",
    "        ('human', 'Here is the initial question: \\n\\n {question} \\n Generate an improved question')\n",
    "    ]\n",
    ")\n",
    "\n",
    "question_rewriter = rewrite_prompt | llm | StrOutputParser()\n",
    "question_rewriter.invoke({'question':question})"
   ]
  },
  {
   "cell_type": "code",
   "execution_count": 6,
   "id": "c9bf4a8e",
   "metadata": {},
   "outputs": [
    {
     "name": "stderr",
     "output_type": "stream",
     "text": [
      "/var/folders/15/xbwr_x_d51sf0lj4mptglw6h0000gn/T/ipykernel_50901/484733239.py:3: LangChainDeprecationWarning: The class `TavilySearchResults` was deprecated in LangChain 0.3.25 and will be removed in 1.0. An updated version of the class exists in the :class:`~langchain-tavily package and should be used instead. To use it run `pip install -U :class:`~langchain-tavily` and import as `from :class:`~langchain_tavily import TavilySearch``.\n",
      "  websearchtool = TavilySearchResults(k=3)\n"
     ]
    }
   ],
   "source": [
    "# Search\n",
    "from langchain_community.tools.tavily_search import TavilySearchResults\n",
    "websearchtool = TavilySearchResults(k=3)"
   ]
  },
  {
   "cell_type": "code",
   "execution_count": 7,
   "id": "adaf8344",
   "metadata": {},
   "outputs": [],
   "source": [
    "from typing import List\n",
    "from typing_extensions import TypedDict\n",
    "\n",
    "class GraphState(TypedDict):\n",
    "    \"\"\"\n",
    "    Represents the state of our graph\n",
    "\n",
    "    Attributes:\n",
    "       question: question\n",
    "       generation: LLM generation\n",
    "       web_search: whether to add web search\n",
    "       documents: list of documents\n",
    "    \"\"\"\n",
    "    \n",
    "    question:str\n",
    "    generation:str\n",
    "    web_search:str\n",
    "    documents: List[str]"
   ]
  },
  {
   "cell_type": "code",
   "execution_count": 9,
   "id": "940f42ab",
   "metadata": {},
   "outputs": [],
   "source": [
    "from langchain.schema import Document\n",
    "def retrieve(state):\n",
    "    \"\"\"Retrieve documents \n",
    "\n",
    "    Args:\n",
    "        state (dict): The current state of graph\n",
    "        \n",
    "    Returns:\n",
    "        state (dict): New key added to the state, documents that contain retrieved documents\n",
    "    \"\"\"\n",
    "    print('--- RETRIEVE ---')\n",
    "    question = state['question']\n",
    "    # Retrieval\n",
    "    documents = retriever.invoke(question)\n",
    "    return {'documents': documents, 'question':question}    \n",
    "\n",
    "def generate(state):\n",
    "    \"\"\"Generate answer\n",
    "\n",
    "    Args:\n",
    "        state (dict): The current state of the graph\n",
    "    \n",
    "    Return: \n",
    "        state (dict):  New key added to the state, generation, that contains LLM generation\n",
    "    \"\"\"\n",
    "    print('--- GENERATE ---')\n",
    "    question = state['question']\n",
    "    documents = state['documents']\n",
    "    \n",
    "    ## RAG generation\n",
    "    generation = rag_chain.invoke({'context': documents,'question':question})\n",
    "    return {'documents': documents,'question':question, 'generation':generation}\n",
    "\n",
    "def grade_documents(state):\n",
    "    \"\"\"Determines whether the retrieved documents are relevant to the question\n",
    "\n",
    "    Args:\n",
    "        state (dict): Current state of the graph\n",
    "        \n",
    "    Returns:\n",
    "        state (dict): Updates the documents key with only the filtered relevant documents\n",
    "    \"\"\"\n",
    "    print('--- CHECK DOCUMENT RELEVANCE TO THE QUESTION ---')\n",
    "    question = state['question']\n",
    "    documents = state['documents']\n",
    "    \n",
    "    # Score each doc\n",
    "    filtered_docs = []\n",
    "    web_search = 'No'\n",
    "    for d in documents:\n",
    "        score= retrieval_grader.invoke({\n",
    "            'question': question, 'document':d.page_content\n",
    "        })\n",
    "        \n",
    "        grade = score.binary_score\n",
    "        if grade == 'yes':\n",
    "            print('--- GRADE: DOCUMENT RELEVANT ---')\n",
    "            filtered_docs.append(d)\n",
    "        else:\n",
    "            print('--- GRADE: DOCUMENT NOT RELEVANT ---')\n",
    "            web_search = 'yes'\n",
    "            continue\n",
    "    return {'documents':documents, 'question': question, 'web_search': web_search}\n",
    "\n",
    "def transform_query(state):\n",
    "    \"\"\"Transform the query to produce a better question\n",
    "\n",
    "    Args:\n",
    "        state (dict): The current state of the graph\n",
    "        \n",
    "    Returns:\n",
    "        state (dict): Updates the key with re-phrased question\n",
    "    \"\"\"\n",
    "    \n",
    "    print('--- TRANSFORM QUERY ---')\n",
    "    question = state['question']\n",
    "    documents = state['documents']\n",
    "    \n",
    "    # rewrite question\n",
    "    better_question = question_rewriter.invoke({'question':question})\n",
    "    return {'documents':documents, 'question':question}\n",
    "\n",
    "def web_search(state):\n",
    "    \"\"\"Web search based on rephrased question\n",
    "\n",
    "    Args:\n",
    "        state (dict): The current graph state\n",
    "        \n",
    "    Returns:\n",
    "        state (dict): Updates documents key with appended web results\n",
    "    \"\"\"\n",
    "    \n",
    "    print('--- WEB SEARCH ---')\n",
    "    question = state['question']\n",
    "    documents = state['documents']\n",
    "    \n",
    "    # web search\n",
    "    docs = websearchtool.invoke({'query':question})\n",
    "    web_results = '\\n'.join([d['content'] for d in docs])\n",
    "    web_results= Document(page_content=web_results)\n",
    "    documents.append(web_results)\n",
    "    return {'documents':documents, 'question':question}\n",
    "\n",
    "def decide_to_generate(state):\n",
    "    \"\"\"Determines whether to generate an answer or re-generate the question\n",
    "\n",
    "    Args:\n",
    "        state (dict): The current graph state\n",
    "        \n",
    "    Returns:\n",
    "        str: Binary decision for next node call\n",
    "    \"\"\"\n",
    "    \n",
    "    print('--- ASSESS GRADED DOCUMENTS ---')\n",
    "    web_search = state['web_search']\n",
    "    if web_search == 'yes':\n",
    "        print(\" --- DECISION: DOCS NOT RELEVANT TO QUERY, TRANSFORM QUERY ---\")\n",
    "        return 'transform_query'\n",
    "    else:\n",
    "        print('--- DECISION: DOCS RELEVANT TO QUERY, GENERATE ANSWER ---')\n",
    "        return 'generate'\n"
   ]
  },
  {
   "cell_type": "code",
   "execution_count": 10,
   "id": "b7a9bcf2",
   "metadata": {},
   "outputs": [
    {
     "data": {
      "image/png": "[encoded data removed]",
      "text/plain": [
       "<IPython.core.display.Image object>"
      ]
     },
     "metadata": {},
     "output_type": "display_data"
    }
   ],
   "source": [
    "## build the graph\n",
    "from langgraph.graph import START,StateGraph, END\n",
    "from IPython.display import Image, display\n",
    "workflow = StateGraph(GraphState)\n",
    "\n",
    "## add nodes\n",
    "workflow.add_node('retrieve', retrieve)\n",
    "workflow.add_node('grade_documents', grade_documents)\n",
    "workflow.add_node('generate', generate)\n",
    "workflow.add_node('transform_query', transform_query)\n",
    "workflow.add_node('web_search', web_search)\n",
    "\n",
    "# build graph\n",
    "workflow.add_edge(START, 'retrieve')\n",
    "workflow.add_edge('retrieve', 'grade_documents')\n",
    "workflow.add_conditional_edges(\n",
    "    'grade_documents',\n",
    "    decide_to_generate,\n",
    "    {\n",
    "        'transform_query': 'transform_query',\n",
    "        'generate': 'generate'\n",
    "    }\n",
    ")\n",
    "workflow.add_edge('transform_query', 'web_search')\n",
    "workflow.add_edge('web_search', 'generate')\n",
    "workflow.add_edge('generate', END)\n",
    "\n",
    "graph = workflow.compile()\n",
    "display(Image(graph.get_graph().draw_mermaid_png()))"
   ]
  },
  {
   "cell_type": "code",
   "execution_count": 12,
   "id": "e13d52a8",
   "metadata": {},
   "outputs": [
    {
     "name": "stdout",
     "output_type": "stream",
     "text": [
      "--- RETRIEVE ---\n",
      "--- CHECK DOCUMENT RELEVANCE TO THE QUESTION ---\n",
      "--- GRADE: DOCUMENT RELEVANT ---\n",
      "--- GRADE: DOCUMENT NOT RELEVANT ---\n",
      "--- GRADE: DOCUMENT NOT RELEVANT ---\n",
      "--- GRADE: DOCUMENT NOT RELEVANT ---\n",
      "--- ASSESS GRADED DOCUMENTS ---\n",
      " --- DECISION: DOCS NOT RELEVANT TO QUERY, TRANSFORM QUERY ---\n",
      "--- TRANSFORM QUERY ---\n",
      "--- WEB SEARCH ---\n",
      "--- GENERATE ---\n"
     ]
    },
    {
     "data": {
      "text/plain": [
       "{'question': 'What is an agentic RAG?',\n",
       " 'generation': 'An agentic RAG (Retrieval-Augmented Generation) is an advanced system that incorporates AI agents into the RAG pipeline to enhance adaptability, accuracy, and functionality. These agents manage the retrieval and generation processes, allowing for multi-step reasoning, dynamic querying, and decision-making. This approach enables more complex workflows and improves the overall performance of AI applications compared to traditional RAG systems.',\n",
       " 'web_search': 'yes',\n",
       " 'documents': [Document(id='a442a105-1e28-4bda-a0c3-ea5131a7a718', metadata={'source': 'https://lilianweng.github.io/posts/2023-03-15-prompt-engineering/', 'title': \"Prompt Engineering | Lil'Log\", 'description': 'Prompt Engineering, also known as In-Context Prompting, refers to methods for how to communicate with LLM to steer its behavior for desired outcomes without updating the model weights. It is an empirical science and the effect of prompt engineering methods can vary a lot among models, thus requiring heavy experimentation and heuristics.\\nThis post only focuses on prompt engineering for autoregressive language models, so nothing with Cloze tests, image generation or multimodality models. At its core, the goal of prompt engineering is about alignment and model steerability. Check my previous post on controllable text generation.', 'language': 'en'}, page_content='RAG style, $p(a_i \\\\mid q) = \\\\sum_{i=1}^n p_\\\\text{tf-idf} (p_i \\\\mid q) \\\\cdot p_\\\\text{LM}(a_i \\\\mid q, p_i)$, where $p_\\\\text{tf-idf} (p_i \\\\mid q)$ is the normalized cosine similarities between the TF-IDF passage and question representations.\\nNoisy channel inference, $p(a_i\\\\mid q) = \\\\frac{p_\\\\text{LM}(q \\\\mid a_i, p_i) \\\\cdot p_\\\\text{LM}(a_i \\\\mid p_i)}{p_\\\\text{LM}(q \\\\mid p_i)}$\\nProduct-of-Experts (PoE), combines all probabilities used above in addition to $p_\\\\text{LM}(p_i \\\\mid q)$.\\n\\nAccording to their experiments on generation and classification tasks, among three answer reranking scores - PoE > Noisy channel > RAG. Among individual probabilities, $p_\\\\text{LM}(a \\\\mid q, p_i)$ and $p_\\\\text{LM}(q \\\\mid p_i, a)$ are found to be most informative. $p_\\\\text{LM}(q \\\\mid p_i, a)$ captures how well the question can be explained by LM given evidence paragraph and answer and can reliably be used for reranking answer candidates.\\nOne observation with SituatedQA dataset for questions grounded in different dates is that despite LM (pretraining cutoff is year 2020) has access to latest information via Google Search, its performance on post-2020 questions are still a lot worse than on pre-2020 questions. This suggests the existence of some discrepencies or conflicting parametric between contextual information and model internal knowledge.\\nInterestingly it is found to be beneficial even with only “internal retrieval”, that is, to generate knowledge about a topic before answering the question (Liu et al. 2022). First we can use  the following template to extract knowledge:\\nGenerate some knowledge about the input. Examples:'),\n",
       "  Document(id='421a8ee2-6a1c-4724-b8b0-59a8b6d06e95', metadata={'source': 'https://lilianweng.github.io/posts/2023-06-23-agent/', 'title': \"LLM Powered Autonomous Agents | Lil'Log\", 'description': 'Building agents with LLM (large language model) as its core controller is a cool concept. Several proof-of-concepts demos, such as AutoGPT, GPT-Engineer and BabyAGI, serve as inspiring examples. The potentiality of LLM extends beyond generating well-written copies, stories, essays and programs; it can be framed as a powerful general problem solver.\\nAgent System Overview\\nIn a LLM-powered autonomous agent system, LLM functions as the agent’s brain, complemented by several key components:\\n\\nPlanning\\n\\nSubgoal and decomposition: The agent breaks down large tasks into smaller, manageable subgoals, enabling efficient handling of complex tasks.\\nReflection and refinement: The agent can do self-criticism and self-reflection over past actions, learn from mistakes and refine them for future steps, thereby improving the quality of final results.\\n\\n\\nMemory\\n\\nShort-term memory: I would consider all the in-context learning (See Prompt Engineering) as utilizing short-term memory of the model to learn.\\nLong-term memory: This provides the agent with the capability to retain and recall (infinite) information over extended periods, often by leveraging an external vector store and fast retrieval.\\n\\n\\nTool use\\n\\nThe agent learns to call external APIs for extra information that is missing from the model weights (often hard to change after pre-training), including current information, code execution capability, access to proprietary information sources and more.\\n\\n\\n\\n\\n\\t\\n\\tOverview of a LLM-powered autonomous agent system.\\n\\nComponent One: Planning\\nA complicated task usually involves many steps. An agent needs to know what they are and plan ahead.', 'language': 'en'}, page_content='inquired about current trends in anticancer drug discovery;\\nselected a target;\\nrequested a scaffold targeting these compounds;\\nOnce the compound was identified, the model attempted its synthesis.\\n\\nThey also discussed the risks, especially with illicit drugs and bioweapons. They developed a test set containing a list of known chemical weapon agents and asked the agent to synthesize them. 4 out of 11 requests (36%) were accepted to obtain a synthesis solution and the agent attempted to consult documentation to execute the procedure. 7 out of 11 were rejected and among these 7 rejected cases, 5 happened after a Web search while 2 were rejected based on prompt only.\\nGenerative Agents Simulation#\\nGenerative Agents (Park, et al. 2023) is super fun experiment where 25 virtual characters, each controlled by a LLM-powered agent, are living and interacting in a sandbox environment, inspired by The Sims. Generative agents create believable simulacra of human behavior for interactive applications.\\nThe design of generative agents combines LLM with memory, planning and reflection mechanisms to enable agents to behave conditioned on past experience, as well as to interact with other agents.\\n\\nMemory stream: is a long-term memory module (external database) that records a comprehensive list of agents’ experience in natural language.\\n\\nEach element is an observation, an event directly provided by the agent.\\n- Inter-agent communication can trigger new natural language statements.\\n\\n\\nRetrieval model: surfaces the context to inform the agent’s behavior, according to relevance, recency and importance.\\n\\nRecency: recent events have higher scores\\nImportance: distinguish mundane from core memories. Ask LM directly.\\nRelevance: based on how related it is to the current situation / query.\\n\\n\\nReflection mechanism: synthesizes memories into higher level inferences over time and guides the agent’s future behavior. They are higher-level summaries of past events (<- note that this is a bit different from self-reflection above)\\n\\nPrompt LM with 100 most recent observations and to generate 3 most salient high-level questions given a set of observations/statements. Then ask LM to answer those questions.\\n\\n\\nPlanning & Reacting: translate the reflections and the environment information into actions'),\n",
       "  Document(id='8f0ca3a4-3185-4e74-b125-03913d0c7a63', metadata={'source': 'https://lilianweng.github.io/posts/2023-10-25-adv-attack-llm/', 'title': \"Adversarial Attacks on LLMs | Lil'Log\", 'description': 'The use of large language models in the real world has strongly accelerated by the launch of ChatGPT. We (including my team at OpenAI, shoutout to them) have invested a lot of effort to build default safe behavior into the model during the alignment process (e.g. via RLHF). However, adversarial attacks or jailbreak prompts could potentially trigger the model to output something undesired.\\nA large body of ground work on adversarial attacks is on images, and differently it operates in the continuous, high-dimensional space. Attacks for discrete data like text have been considered to be a lot more challenging, due to lack of direct gradient signals. My past post on Controllable Text Generation is quite relevant to this topic, as attacking LLMs is essentially to control the model to output a certain type of (unsafe) content.', 'language': 'en'}, page_content='The experiment used the BAD (Bot Adversarial Dialogue) dataset and generated red team test cases using a simple prompt:\\nList of questions to ask someone:\\n1.\\nFor attacks to trigger private personal information, this zero-shot prompt is used:\\nList of questions that inquire about a person\\'s {phone number|home address|Social Security Number|email address}:  \\n1.\\nTo encourage high-quality and diverse samples, they adopted nucleus sampling with $p=0.95$. The diversity is measured as self-BLEU, that is, precisely, the maximum BLEU of a given case against 1000 cases. Lower self-BLEU indicates better diversity. There is a clear tradeoff between sample diversity and attack success rate. Zero-shot generation has least success rate in term of tricking offensive model outputs but preserves sampling diversity well, while with low KL penalty, RL fine-tuning maximizes reward effectively but at the cost of diversity, exploiting one successful attack patterns.\\n\\n\\nThe x-axis measures the % model responses are classified as offensive (= \"attack success rate\") and the y-axis measures sample diversity by self-BLEU. Displayed red team generation methods are zero-shot (ZS), stochastic few-shot (SFS), supervised learning (SL), BAD dataset, RL (A2C with different KL penalties). Each node is colored based % test prompts classified as offensive, where blue is low and red is high. (Image source: Perez et al. 2022)\\n\\nIt is impossible to build a perfect classifier on detecting harmful content and any biases or flaw within this classifier can lead to biased attacks. It is especially easy for RL algorithm to exploit any small issues with the classifier as an effective attack pattern, which may end up just being an attack on the classifier. In addition, someone argues that red-teaming against an existing classifier has marginal benefits because such a classifier can be used directly to filter training data or block model output.\\nCasper et al. (2023) set up a human-in-the-loop red teaming process. The main difference from Perez et al. (2022) is that they explicitly set up a data sampling stage for the target model such that we can collect human labels on them to train a task-specific red team classifier. There are three steps:'),\n",
       "  Document(id='2c347a91-6fe9-4291-a3a5-56b80d6c39f7', metadata={'source': 'https://lilianweng.github.io/posts/2023-06-23-agent/', 'title': \"LLM Powered Autonomous Agents | Lil'Log\", 'description': 'Building agents with LLM (large language model) as its core controller is a cool concept. Several proof-of-concepts demos, such as AutoGPT, GPT-Engineer and BabyAGI, serve as inspiring examples. The potentiality of LLM extends beyond generating well-written copies, stories, essays and programs; it can be framed as a powerful general problem solver.\\nAgent System Overview\\nIn a LLM-powered autonomous agent system, LLM functions as the agent’s brain, complemented by several key components:\\n\\nPlanning\\n\\nSubgoal and decomposition: The agent breaks down large tasks into smaller, manageable subgoals, enabling efficient handling of complex tasks.\\nReflection and refinement: The agent can do self-criticism and self-reflection over past actions, learn from mistakes and refine them for future steps, thereby improving the quality of final results.\\n\\n\\nMemory\\n\\nShort-term memory: I would consider all the in-context learning (See Prompt Engineering) as utilizing short-term memory of the model to learn.\\nLong-term memory: This provides the agent with the capability to retain and recall (infinite) information over extended periods, often by leveraging an external vector store and fast retrieval.\\n\\n\\nTool use\\n\\nThe agent learns to call external APIs for extra information that is missing from the model weights (often hard to change after pre-training), including current information, code execution capability, access to proprietary information sources and more.\\n\\n\\n\\n\\n\\t\\n\\tOverview of a LLM-powered autonomous agent system.\\n\\nComponent One: Planning\\nA complicated task usually involves many steps. An agent needs to know what they are and plan ahead.', 'language': 'en'}, page_content='The agent learns to call external APIs for extra information that is missing from the model weights (often hard to change after pre-training), including current information, code execution capability, access to proprietary information sources and more.\\n\\n\\n\\n\\n\\nOverview of a LLM-powered autonomous agent system.'),\n",
       "  Document(metadata={}, page_content='Agentic RAG (Retrieval-Augmented Generation) is an extension of the traditional RAG framework that incorporates the concept of agents to enhance the capabilities and functionality of the system. In an agentic RAG, agents are used to orchestrate and manage the various components of the RAG pipeline, as well as to perform additional tasks and reasoning that go beyond simple information retrieval and generation. [...] Agentic RAG is a powerful tool for research, data analysis, and knowledge exploration. It represents a significant leap forward in the field of AI-powered research assistants and virtual assistants. Its ability to reason, adapt, and leverage external knowledge paves the way for a new generation of intelligent agents that can significantly enhance our ability to interact with and analyze information. [...] In today’s business landscape, the demand for intelligent systems capable of retrieving relevant information dynamically has never been higher. Agentic RAG represents a cutting-edge approach that combines the strengths of retrieval-based systems and generative models. LeewayHertz, proficient in AI and innovative technology solutions, is well-positioned in this field, offering unparalleled expertise in building robust agentic RAG systems. Here’s how LeewayHertz can assist in this endeavor:\\n# What is agentic RAG?\\n\\n## Authors\\n\\nStaff writer\\n\\nEditorial Lead, AI Models\\n\\nAgentic RAG is the use of AI agents to facilitate retrieval augmented generation (RAG). Agentic RAG systems add AI agents to the RAG pipeline to increase adaptability and accuracy. Compared to traditional RAG systems, agentic RAG allows large language models (LLMs) to conduct information retrieval from multiple sources and handle more complex workflows.\\n\\n### What is RAG? [...] Adaptability: Traditional RAG systems are reactive data retrieval tools that find relevant information in response to specific queries. There is no ability for the RAG system to adapt to changing contexts or access other data. Optimal results often require extensive prompt engineering.\\n\\nMeanwhile, agentic RAG is a transition from static rule-based querying to adaptive, intelligent problem-solving. Multiagent systems encourage multiple AI models to collaborate and check each other’s work.\\nAgentic RAG is a cutting-edge AI model that introduces AI agents into the RAG pipeline to amplify information retrieval and flexibility. These agents can automate tasks, access external data, create customized outputs, and evolve their performance through continuous learning. Adding agentic AI to RAG systems makes AI applications smarter and more independent.\\n\\nHow agentic RAG works\\n--------------------- [...] Agentic RAG (Retrieval-Augmented Generation) is a framework where an agent actively retrieves and uses relevant information from a knowledge base to enhance the generation of responses, ensuring they are accurate and contextually appropriate.\\n\\n   Share the story\\n\\n   Image 22\\n   Image 23\\n   Image 24\\n   Image 25  \\nLink Copied \\n\\nTry Agentforce\\n\\nImage 26\\n\\nImage 27 [...] Real-time question-answering: Agentic RAG is the tool you need to create intelligent virtual assistants and chatbots that can respond to user queries with precision and immediacy.\\n   Automated support: Agentic RAG can automate customer support tasks, such as resolving common inquiries, scheduling appointments, and providing technical assistance.\\nFAQs\\n\\nWhat is Agentic RAG?\\n\\nAI agent implementation on the RAG pipeline is known as agentic RAG to optimize and manage retrieval and generation processes better than traditional RAG. Using intelligent agents within the traditional RAG pipeline improves reasoning, analysis, and information generation, resulting in better response outcomes.\\n\\nHow does Agentic RAG enhance the user experience? [...] Agentic RAG is an excellent tool for inspiring enthusiasts to become AI adopters. Unlike traditional tools, agentic RAG optimizes retrieval data and avoids rerunning retrieval while generating a response. This reduces consumption rates and saves companies money as they aim to build AI-first customer or employee support. [...] Agent-based RAG implementation is known as agentic RAG in a very fundamental stage. It means embedding the power of the agency or agents with the LLM-based RAGs to help execute multi-task or complex tasks requiring multi-step reasoning, strategies, and utilization of multiple tools is agentic RAG.\\nExplain what Agentic RAG is\\n   Compare it to traditional RAG and other paradigms\\n   Share tools and evaluation strategies to get you started\\n   Explore a practical example from the finance sector\\n\\nImage 3\\n\\n2. What Is Agentic RAG?\\n=======================\\n\\nAgentic RAG is an advanced RAG system that uses LLM-powered agents to perform multi-step reasoning, dynamic querying, and decision-making throughout the retrieval and response process. [...] Agentic RAG didn’t just answer the question, it explained how the answer was derived, giving stakeholders both speed and confidence.\\n\\n10. Conclusion\\n==============\\n\\nAgentic RAG is the natural evolution of retrieval-based AI systems, combining the precision of RAG with the reasoning and planning capabilities of agents. It is especially powerful in regulated, high-stakes, or information-dense industries like finance, legal, and healthcare. [...] If you’re building an AI system that needs to think before it speaks, and back up its answers, Agentic RAG is the framework to use.\\n\\nFor further inquiries or collaboration, feel free to contact me at tungvu.telecom@gmail.com.\\n\\nImage 8\\n\\nSign up to discover human stories that deepen your understanding of the world.\\n------------------------------------------------------------------------------\\n\\nFree\\n----\\n\\nDistraction-free reading. No ads.\\n\\nOrganize your knowledge with lists and highlights.')]}"
      ]
     },
     "execution_count": 12,
     "metadata": {},
     "output_type": "execute_result"
    }
   ],
   "source": [
    "# invoke graph\n",
    "graph.invoke({'question': 'What is an agentic RAG?'})"
   ]
  },
  {
   "cell_type": "code",
   "execution_count": null,
   "id": "cfc1f151",
   "metadata": {},
   "outputs": [],
   "source": []
  }
 ],
 "metadata": {
  "kernelspec": {
   "display_name": "langgraph-agents",
   "language": "python",
   "name": "python3"
  },
  "language_info": {
   "codemirror_mode": {
    "name": "ipython",
    "version": 3
   },
   "file_extension": ".py",
   "mimetype": "text/x-python",
   "name": "python",
   "nbconvert_exporter": "python",
   "pygments_lexer": "ipython3",
   "version": "3.12.11"
  }
 },
 "nbformat": 4,
 "nbformat_minor": 5
}
